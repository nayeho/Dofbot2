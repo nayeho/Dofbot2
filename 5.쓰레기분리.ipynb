{
 "cells": [
  {
   "cell_type": "code",
   "execution_count": null,
   "metadata": {},
   "outputs": [
    {
     "name": "stderr",
     "output_type": "stream",
     "text": [
      "Matplotlib created a temporary config/cache directory at /tmp/matplotlib-ztbj1qmz because the default path (/home/jetson/.config/matplotlib) is not a writable directory; it is highly recommended to set the MPLCONFIGDIR environment variable to a writable directory, in particular to speed up the import of Matplotlib and to better support multiprocessing.\n"
     ]
    },
    {
     "name": "stdout",
     "output_type": "stream",
     "text": [
      "Fusing layers... \n"
     ]
    }
   ],
   "source": [
    "import time\n",
    "import torch\n",
    "import rospy\n",
    "import Arm_Lib\n",
    "import cv2 as cv\n",
    "import numpy as np\n",
    "from time import sleep\n",
    "from numpy import random\n",
    "from utils.torch_utils import select_device\n",
    "from models.experimental import attempt_load\n",
    "from utils.general import non_max_suppression, scale_coords, xyxy2xywh, plot_one_box\n",
    "from single_garbage_identify import single_garbage_identify\n",
    "\n",
    "\n",
    "single_garbage = single_garbage_identify()\n",
    "model_path = 'model0.pt'\n",
    "device = select_device()\n",
    "model = attempt_load(model_path, map_location=device)"
   ]
  },
  {
   "cell_type": "code",
   "execution_count": 4,
   "metadata": {},
   "outputs": [],
   "source": [
    "def garbage_getName(self):\n",
    "        name = \"None\"\n",
    "        if self.status == 'waiting':\n",
    "            self.frame, msg = self.garbage_identify.garbage_run(self.frame)\n",
    "            for key, pos in msg.items(): name = key\n",
    "            if name == \"Zip_top_can\":              (self.garbage_num, self.garbage_class) = ('00', '01')\n",
    "            if name == \"Old_school_bag\":           (self.garbage_num, self.garbage_class) = ('01', '01')\n",
    "            if name == \"Newspaper\":                (self.garbage_num, self.garbage_class) = ('02', '01')\n",
    "            if name == \"Book\":                     (self.garbage_num, self.garbage_class) = ('03', '01')\n",
    "            if name == \"Toilet_paper\":             (self.garbage_num, self.garbage_class) = ('04', '02')\n",
    "            if name == \"Peach_pit\":                (self.garbage_num, self.garbage_class) = ('05', '02')\n",
    "            if name == \"Cigarette_butts\":          (self.garbage_num, self.garbage_class) = ('06', '02')\n",
    "            if name == \"Disposable_chopsticks\":    (self.garbage_num, self.garbage_class) = ('07', '02')\n",
    "            if name == \"Egg_shell\":                (self.garbage_num, self.garbage_class) = ('08', '03')\n",
    "            if name == \"Apple_core\":               (self.garbage_num, self.garbage_class) = ('09', '03')\n",
    "            if name == \"Watermelon_rind\":          (self.garbage_num, self.garbage_class) = ('10', '03')\n",
    "            if name == \"Fish_bone\":                (self.garbage_num, self.garbage_class) = ('11', '03')\n",
    "            if name == \"Expired_tablets\":          (self.garbage_num, self.garbage_class) = ('12', '04')\n",
    "            if name == \"Expired_cosmetics\":        (self.garbage_num, self.garbage_class) = ('13', '04')\n",
    "            if name == \"Used_batteries\":           (self.garbage_num, self.garbage_class) = ('14', '04')\n",
    "            if name == \"Syringe\":                  (self.garbage_num, self.garbage_class) = ('15', '04')\n",
    "            if name == \"None\":                     (self.garbage_num, self.garbage_class) = ('None', 'None')"
   ]
  },
  {
   "cell_type": "code",
   "execution_count": 10,
   "metadata": {},
   "outputs": [],
   "source": [
    "import ipywidgets as widgets\n",
    "from IPython.display import display\n",
    "import threading\n",
    "\n",
    "button_layout      = widgets.Layout(width='320px', height='60px', align_self='center')\n",
    "output = widgets.Output()\n",
    "exit_button = widgets.Button(description='Exit', button_style='danger', layout=button_layout)\n",
    "imgbox = widgets.Image(format='jpg', height=480, width=640, layout=widgets.Layout(align_self='center'))\n",
    "controls_box = widgets.VBox([imgbox, exit_button], layout=widgets.Layout(align_self='center'))"
   ]
  },
  {
   "cell_type": "code",
   "execution_count": 5,
   "metadata": {},
   "outputs": [],
   "source": [
    "def camera():\n",
    "\n",
    "    capture = cv.VideoCapture(0)\n",
    "\n",
    "    while capture.isOpened():\n",
    "\n",
    "        try:\n",
    "            _, img = capture.read()\n",
    "\n",
    "            img = cv.resize(img, (640, 480))\n",
    "            img = single_garbage.single_garbage_run(img)\n",
    "\n",
    "            if model == 'Exit':\n",
    "                cv.destroyAllWindows()\n",
    "                capture.release()\n",
    "                break\n",
    "                \n",
    "            imgbox.value = cv.imencode('.jpg', img)[1].tobytes()\n",
    "        except KeyboardInterrupt:capture.release()"
   ]
  },
  {
   "cell_type": "code",
   "execution_count": 12,
   "metadata": {},
   "outputs": [
    {
     "data": {
      "application/vnd.jupyter.widget-view+json": {
       "model_id": "011fd59844fa4b409331639a15098bc1",
       "version_major": 2,
       "version_minor": 0
      },
      "text/plain": [
       "VBox(children=(Image(value=b'', format='jpg', height='480', layout=\"Layout(align_self='center')\", width='640')…"
      ]
     },
     "metadata": {},
     "output_type": "display_data"
    },
    {
     "data": {
      "application/vnd.jupyter.widget-view+json": {
       "model_id": "2183e502aaa14850833fb755838044f0",
       "version_major": 2,
       "version_minor": 0
      },
      "text/plain": [
       "Output()"
      ]
     },
     "metadata": {},
     "output_type": "display_data"
    }
   ],
   "source": [
    "display(controls_box,output)\n",
    "threading.Thread(target=camera, ).start()"
   ]
  }
 ],
 "metadata": {
  "kernelspec": {
   "display_name": "Python 3",
   "language": "python",
   "name": "python3"
  },
  "language_info": {
   "codemirror_mode": {
    "name": "ipython",
    "version": 3
   },
   "file_extension": ".py",
   "mimetype": "text/x-python",
   "name": "python",
   "nbconvert_exporter": "python",
   "pygments_lexer": "ipython3",
   "version": "3.6.9"
  }
 },
 "nbformat": 4,
 "nbformat_minor": 4
}
