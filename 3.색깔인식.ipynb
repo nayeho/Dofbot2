{
 "cells": [
  {
   "cell_type": "code",
   "execution_count": 1,
   "metadata": {},
   "outputs": [],
   "source": [
    "import enum\n",
    "import cv2\n",
    "def bgr8_to_jpeg(value, quality=75):\n",
    "    return bytes(cv2.imencode('.jpg', value)[1])"
   ]
  },
  {
   "cell_type": "code",
   "execution_count": 2,
   "metadata": {},
   "outputs": [
    {
     "data": {
      "application/vnd.jupyter.widget-view+json": {
       "model_id": "db8c0a89ab9f49a9b11c470960223327",
       "version_major": 2,
       "version_minor": 0
      },
      "text/plain": [
       "HBox(children=(Image(value=b'', format='jpeg', height='240', width='320'), Image(value=b'', format='jpeg', hei…"
      ]
     },
     "metadata": {},
     "output_type": "display_data"
    }
   ],
   "source": [
    "import traitlets\n",
    "import ipywidgets.widgets as widgets\n",
    "import time\n",
    "import threading\n",
    "import inspect\n",
    "import ctypes\n",
    "\n",
    "origin_widget = widgets.Image(format='jpeg', width=320, height=240)\n",
    "mask_widget = widgets.Image(format='jpeg',width=320, height=240)\n",
    "result_widget = widgets.Image(format='jpeg',width=320, height=240)\n",
    "image_container = widgets.HBox([origin_widget, mask_widget, result_widget])\n",
    "\n",
    "display(image_container)"
   ]
  },
  {
   "cell_type": "code",
   "execution_count": 3,
   "metadata": {},
   "outputs": [],
   "source": [
    "def get_color(img):\n",
    "    H = []\n",
    "    color_name={}\n",
    "    img = cv2.resize(img, (640, 480), )\n",
    "\n",
    "    HSV = cv2.cvtColor(img, cv2.COLOR_BGR2HSV)\n",
    "\n",
    "    cv2.rectangle(img, (280, 180), (360, 260), (0, 255, 0), 2)\n",
    "\n",
    "    for i in range(280, 360):\n",
    "        for j in range(180, 260): H.append(HSV[j, i][0])\n",
    "\n",
    "    H_min = min(H);H_max = max(H)\n",
    "\n",
    "    if H_min >= 0 and H_max <= 10 or H_min >= 156 and H_max <= 180:\n",
    "        color_name['name'] = 'red'\n",
    "\n",
    "    elif H_min >= 26 and H_max <= 34:\n",
    "        color_name['name'] = 'yellow'\n",
    "\n",
    "    elif H_min >= 35 and H_max <= 78:\n",
    "        color_name['name'] = 'green'\n",
    "\n",
    "    elif H_min >= 100 and H_max <= 124:\n",
    "        color_name['name'] = 'blue'\n",
    "\n",
    "    return img, color_name"
   ]
  },
  {
   "cell_type": "code",
   "execution_count": null,
   "metadata": {},
   "outputs": [],
   "source": [
    "import cv2\n",
    "import numpy as np\n",
    "import ipywidgets.widgets as widgets\n",
    "\n",
    "cap = cv2.VideoCapture(0)\n",
    "cap.set(3, 640)\n",
    "cap.set(4, 480)\n",
    "cap.set(5, 30)\n",
    "\n",
    "cap.set(cv2.CAP_PROP_FOURCC, cv2.VideoWriter.fourcc('M', 'J', 'P', 'G'))\n",
    "\n",
    "color_lower = np.array([0, 43, 46])\n",
    "color_upper = np.array([10, 255, 255])\n",
    "\n",
    "def Color_Recongnize():\n",
    "\n",
    "    while 1:\n",
    "        ret, frame = cap.read()\n",
    "        frame, color_name = get_color(frame)\n",
    "\n",
    "        if len(color_name)==1:\n",
    "            global color_lower\n",
    "            global color_upper\n",
    "\n",
    "            if color_name['name'] == 'yellow':\n",
    "                color_lower = np.array([26, 43, 46])\n",
    "                color_upper = np.array([34, 255, 255])\n",
    "         \n",
    "            elif color_name['name'] == 'red':\n",
    "                color_lower = np.array([0, 43, 46])\n",
    "                color_upper = np.array([10, 255, 255])\n",
    "             \n",
    "            elif  color_name['name'] == 'green':\n",
    "                color_lower = np.array([35, 43, 46])\n",
    "                color_upper = np.array([77, 255, 255])\n",
    "             \n",
    "            elif color_name['name'] == 'blue':\n",
    "                color_lower=np.array([100, 43, 46])\n",
    "                color_upper = np.array([124, 255, 255])\n",
    "\n",
    "        origin_widget.value = bgr8_to_jpeg(frame) \n",
    "        hsv = cv2.cvtColor(frame, cv2.COLOR_BGR2HSV)\n",
    "        mask = cv2.inRange(hsv, color_lower, color_upper)\n",
    "        mask_widget.value = bgr8_to_jpeg(mask)\n",
    "        res = cv2.bitwise_and(frame, frame, mask=mask)\n",
    "        result_widget.value = bgr8_to_jpeg(res)\n",
    "\n",
    "        time.sleep(0.01)\n",
    "\n",
    "    cap.release()"
   ]
  }
 ],
 "metadata": {
  "kernelspec": {
   "display_name": "Python 3",
   "language": "python",
   "name": "python3"
  },
  "language_info": {
   "codemirror_mode": {
    "name": "ipython",
    "version": 3
   },
   "file_extension": ".py",
   "mimetype": "text/x-python",
   "name": "python",
   "nbconvert_exporter": "python",
   "pygments_lexer": "ipython3",
   "version": "3.6.9"
  }
 },
 "nbformat": 4,
 "nbformat_minor": 4
}
